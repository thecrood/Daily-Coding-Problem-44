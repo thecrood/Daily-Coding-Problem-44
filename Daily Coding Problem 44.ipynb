{
 "cells": [
  {
   "cell_type": "markdown",
   "id": "fd3237ab",
   "metadata": {},
   "source": [
    "# Daily Coding Problem 44"
   ]
  },
  {
   "cell_type": "raw",
   "id": "7d00ac5c",
   "metadata": {},
   "source": [
    "This problem was asked by Google.\n",
    "\n",
    "We can determine how \"out of order\" an array A is by counting the number of inversions it has. Two elements A[i] and A[j] form an inversion if A[i] > A[j] but i < j. That is, a smaller element appears after a larger element.\n",
    "\n",
    "Given an array, count the number of inversions it has. Do this faster than O(N^2) time.\n",
    "\n",
    "You may assume each element in the array is distinct.\n",
    "\n",
    "For example, a sorted list has zero inversions. The array [2, 4, 1, 3, 5] has three inversions: (2, 1), (4, 1), and (4, 3). The array [5, 4, 3, 2, 1] has ten inversions: every distinct pair forms an inversion."
   ]
  },
  {
   "cell_type": "code",
   "execution_count": 2,
   "id": "35d1e0ea",
   "metadata": {},
   "outputs": [
    {
     "name": "stdout",
     "output_type": "stream",
     "text": [
      "10\n"
     ]
    }
   ],
   "source": [
    "def count_inversions(arr):\n",
    "    count, _ = count_inversions_helper(arr)\n",
    "    return count\n",
    "\n",
    "def count_inversions_helper(arr):\n",
    "    if len(arr) <= 1:\n",
    "        return 0, arr\n",
    "    mid = len(arr) // 2\n",
    "    a = arr[:mid]\n",
    "    b = arr[mid:]\n",
    "    left_count, left_sorted_arr = count_inversions_helper(a)\n",
    "    right_count, right_sorted_arr = count_inversions_helper(b)\n",
    "    between_count, sorted_arr = merge_and_count(left_sorted_arr, right_sorted_arr)\n",
    "    return left_count + right_count + between_count, sorted_arr\n",
    "\n",
    "def merge_and_count(a, b):\n",
    "    count = 0\n",
    "    sorted_arr = []\n",
    "    i, j = 0, 0\n",
    "    while i < len(a) and j < len(b):\n",
    "        if a[i] < b[j]:\n",
    "            sorted_arr.append(a[i])\n",
    "            i += 1\n",
    "        elif a[i] > b[j]:\n",
    "            sorted_arr.append(b[j])\n",
    "            count += len(a) - i\n",
    "            j += 1\n",
    "    sorted_arr.extend(a[i:])\n",
    "    sorted_arr.extend(b[j:])\n",
    "    return count, sorted_arr\n",
    "\n",
    "print(count_inversions([5, 4, 3, 2, 1]))"
   ]
  },
  {
   "cell_type": "code",
   "execution_count": null,
   "id": "66ff0a12",
   "metadata": {},
   "outputs": [],
   "source": []
  },
  {
   "cell_type": "code",
   "execution_count": null,
   "id": "fbf74c17",
   "metadata": {},
   "outputs": [],
   "source": []
  },
  {
   "cell_type": "code",
   "execution_count": null,
   "id": "05429380",
   "metadata": {},
   "outputs": [],
   "source": []
  }
 ],
 "metadata": {
  "kernelspec": {
   "display_name": "Python 3 (ipykernel)",
   "language": "python",
   "name": "python3"
  },
  "language_info": {
   "codemirror_mode": {
    "name": "ipython",
    "version": 3
   },
   "file_extension": ".py",
   "mimetype": "text/x-python",
   "name": "python",
   "nbconvert_exporter": "python",
   "pygments_lexer": "ipython3",
   "version": "3.8.10"
  }
 },
 "nbformat": 4,
 "nbformat_minor": 5
}
